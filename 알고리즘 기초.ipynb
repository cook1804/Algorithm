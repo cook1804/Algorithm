{
 "cells": [
  {
   "cell_type": "markdown",
   "id": "ab973acd",
   "metadata": {},
   "source": [
    "### 3개로 분기하는 조건문"
   ]
  },
  {
   "cell_type": "code",
   "execution_count": 5,
   "id": "41c89816",
   "metadata": {},
   "outputs": [
    {
     "name": "stdout",
     "output_type": "stream",
     "text": [
      "정수를 입력하세요.: 4\n",
      "C\n"
     ]
    }
   ],
   "source": [
    "\n",
    "\n",
    "n = int(input('정수를 입력하세요.: '))\n",
    "\n",
    "if n == 1:\n",
    "    print('A')\n",
    "elif n == 2:\n",
    "    print('B')\n",
    "else:\n",
    "    print('C')\n",
    "\n"
   ]
  },
  {
   "cell_type": "markdown",
   "id": "8adadccf",
   "metadata": {},
   "source": [
    "### 4개로 분기하는 조건문(실습 1-5)"
   ]
  },
  {
   "cell_type": "code",
   "execution_count": 3,
   "id": "71f8a7e8",
   "metadata": {},
   "outputs": [
    {
     "name": "stdout",
     "output_type": "stream",
     "text": [
      "정수를 입력하세요: 4\n"
     ]
    }
   ],
   "source": [
    "n = int(input('정수를 입력하세요: '))\n",
    "\n",
    "if n == 1:\n",
    "    print('A')\n",
    "elif n == 2:\n",
    "    print('B')\n",
    "elif n == 3:\n",
    "    print('C')"
   ]
  },
  {
   "cell_type": "markdown",
   "id": "d904a218",
   "metadata": {},
   "source": [
    "### 실습 1-5 원래 모습"
   ]
  },
  {
   "cell_type": "code",
   "execution_count": 6,
   "id": "9de3abf0",
   "metadata": {},
   "outputs": [
    {
     "name": "stdout",
     "output_type": "stream",
     "text": [
      "정수를 입력하세요.4\n"
     ]
    }
   ],
   "source": [
    "n = int(input('정수를 입력하세요.'))\n",
    "\n",
    "if n == 1:\n",
    "    print('A')\n",
    "elif n == 2:\n",
    "    print('B')\n",
    "elif n == 3:\n",
    "    print('C')\n",
    "else:\n",
    "    pass    # 실행할 것이 아무것도 없다는 것을 의미. 따라서 아무런 동작을 하지 않고 다음 코드를 실행. 1,2,3 이외의 수를 입력하면 else문의 pass문이 실행된다."
   ]
  },
  {
   "cell_type": "code",
   "execution_count": 7,
   "id": "a7863356",
   "metadata": {},
   "outputs": [
    {
     "ename": "NameError",
     "evalue": "name 'x' is not defined",
     "output_type": "error",
     "traceback": [
      "\u001b[1;31m---------------------------------------------------------------------------\u001b[0m",
      "\u001b[1;31mNameError\u001b[0m                                 Traceback (most recent call last)",
      "\u001b[1;32m<ipython-input-7-c95e6b52e07f>\u001b[0m in \u001b[0;36m<module>\u001b[1;34m\u001b[0m\n\u001b[1;32m----> 1\u001b[1;33m \u001b[0ma\u001b[0m \u001b[1;33m=\u001b[0m \u001b[0mx\u001b[0m \u001b[1;32mif\u001b[0m \u001b[0mx\u001b[0m \u001b[1;33m>\u001b[0m \u001b[0my\u001b[0m \u001b[1;32melse\u001b[0m \u001b[0my\u001b[0m  \u001b[1;31m# x와 y 중 큰 값을 a에 대입\u001b[0m\u001b[1;33m\u001b[0m\u001b[1;33m\u001b[0m\u001b[0m\n\u001b[0m\u001b[0;32m      2\u001b[0m \u001b[0mprint\u001b[0m\u001b[1;33m(\u001b[0m\u001b[1;34m'c는 0입니다.'\u001b[0m \u001b[1;32mif\u001b[0m \u001b[0mc\u001b[0m \u001b[1;33m==\u001b[0m \u001b[1;36m0\u001b[0m \u001b[1;32melse\u001b[0m \u001b[1;34m'c는 0이 아닙니다.'\u001b[0m\u001b[1;33m)\u001b[0m \u001b[1;31m# c 값이 0이면 'c는 0입니다.'를 출력하고, 그렇지 않으면 'c는 0이 아닙니다.'를 출력합니다.\u001b[0m\u001b[1;33m\u001b[0m\u001b[1;33m\u001b[0m\u001b[0m\n",
      "\u001b[1;31mNameError\u001b[0m: name 'x' is not defined"
     ]
    }
   ],
   "source": [
    "a = x if x > y else y  # x와 y 중 큰 값을 a에 대입\n",
    "print('c는 0입니다.' if c == 0 else 'c는 0이 아닙니다.') # c 값이 0이면 'c는 0입니다.'를 출력하고, 그렇지 않으면 'c는 0이 아닙니다.'를 출력합니다."
   ]
  },
  {
   "cell_type": "markdown",
   "id": "c5a91454",
   "metadata": {},
   "source": [
    "### 1부터 n까지 정수의 합 구하기 1(while 문)"
   ]
  },
  {
   "cell_type": "code",
   "execution_count": 13,
   "id": "186a33d6",
   "metadata": {},
   "outputs": [
    {
     "name": "stdout",
     "output_type": "stream",
     "text": [
      "1부터 n까지 정수의 합을 구합니다.\n",
      "n값을 입력하세요: 4\n",
      "1부터 4까지 정수의 합은 10입니다.\n"
     ]
    }
   ],
   "source": [
    "print('1부터 n까지 정수의 합을 구합니다.')\n",
    "n = int(input('n값을 입력하세요: '))\n",
    "\n",
    "sum = 0\n",
    "i = 1\n",
    "\n",
    "while i <= n:\n",
    "    sum += i\n",
    "    i += 1\n",
    "\n",
    "print(f'1부터 {n}까지 정수의 합은 {sum}입니다.')"
   ]
  },
  {
   "cell_type": "markdown",
   "id": "b9c6cdf3",
   "metadata": {},
   "source": [
    "### 1부터 n까지 정수의 합 구하기 2(for 문)"
   ]
  },
  {
   "cell_type": "code",
   "execution_count": 10,
   "id": "62c70062",
   "metadata": {},
   "outputs": [
    {
     "name": "stdout",
     "output_type": "stream",
     "text": [
      "1부터 n까지 정수의 합을 구합니다.\n",
      "n값을 입력하세요.: 4\n",
      "1부터 4까지 정수의 합은 10입니다.\n"
     ]
    }
   ],
   "source": [
    "print('1부터 n까지 정수의 합을 구합니다.')\n",
    "n = int(input('n값을 입력하세요.: '))\n",
    "\n",
    "sum = 0 \n",
    "for i in range(1,n+1):\n",
    "    sum += i  # sum에 i를 더함\n",
    "\n",
    "print(f'1부터 {n}까지 정수의 합은 {sum}입니다.')"
   ]
  },
  {
   "cell_type": "markdown",
   "id": "8a209c73",
   "metadata": {},
   "source": [
    "### 1부터 n까지 정수의 합 구하기3(가우스의 덧셈)"
   ]
  },
  {
   "cell_type": "code",
   "execution_count": 12,
   "id": "67498c2f",
   "metadata": {
    "scrolled": true
   },
   "outputs": [
    {
     "name": "stdout",
     "output_type": "stream",
     "text": [
      "1부터 n까지 정수의 합을 구합니다.\n",
      "n값을 입력하세요.: 4\n",
      "1부터 4까지 정수의 합은 10입니다.\n"
     ]
    }
   ],
   "source": [
    "print('1부터 n까지 정수의 합을 구합니다.')\n",
    "n = int(input('n값을 입력하세요.: '))\n",
    "\n",
    "sum = n *(n + 1) // 2  # / 대신 // 한 이유는 n이 정수이고, n이 어떤 정 n(n+1)에서 \n",
    "print(f'1부터 {n}까지 정수의 합은 {sum}입니다.')"
   ]
  },
  {
   "cell_type": "markdown",
   "id": "5e5baddd",
   "metadata": {},
   "source": [
    "# 연속하는 정수의 합을 구하기 위해 값 정렬하기"
   ]
  },
  {
   "cell_type": "markdown",
   "id": "0ff4e6fa",
   "metadata": {},
   "source": [
    "### a부터 b까지 정수의 합 구하기(for 문)"
   ]
  },
  {
   "cell_type": "code",
   "execution_count": 15,
   "id": "d9049699",
   "metadata": {},
   "outputs": [
    {
     "name": "stdout",
     "output_type": "stream",
     "text": [
      "a부터 b까지 정수의 합을 구합니다.\n",
      "정수 a를 입력하세요.: 6\n",
      "정수 b를 입력하세요.: 2\n",
      "2부터 6까지 정수의 합은 20입니다.\n"
     ]
    }
   ],
   "source": [
    "print('a부터 b까지 정수의 합을 구합니다.')\n",
    "a = int(input('정수 a를 입력하세요.: '))\n",
    "b = int(input('정수 b를 입력하세요.: '))\n",
    "\n",
    "if a > b:\n",
    "    a,b = b,a # a와 b 를 오름차순으로 정렬\n",
    "\n",
    "sum = 0\n",
    "for i in range(a,b+1):\n",
    "    sum += i\n",
    "\n",
    "print(f'{a}부터 {b}까지 정수의 합은 {sum}입니다.')"
   ]
  },
  {
   "cell_type": "markdown",
   "id": "6f41ece3",
   "metadata": {},
   "source": [
    "## 반복 과정에서 조건 판단하기 1"
   ]
  },
  {
   "cell_type": "code",
   "execution_count": 16,
   "id": "039cf6b4",
   "metadata": {},
   "outputs": [
    {
     "name": "stdout",
     "output_type": "stream",
     "text": [
      "a부터 b까지 정수의 합을 구합니다.\n",
      "정수 a를 입력하세요.: 5\n",
      "정수 b를 입력하세요.: 3\n",
      "3 + 4 + 5 = 12\n"
     ]
    }
   ],
   "source": [
    "# a부터 b까지 정수의 합 구하기1\n",
    "\n",
    "print('a부터 b까지 정수의 합을 구합니다.')\n",
    "a = int(input('정수 a를 입력하세요.: '))\n",
    "b = int(input('정수 b를 입력하세요.: '))\n",
    "\n",
    "if a > b:\n",
    "    a,b = b,a\n",
    "\n",
    "sum = 0\n",
    "for i in range(a,b+1):\n",
    "    if i < b:\n",
    "        print(f'{i} + ', end='')\n",
    "    else:\n",
    "        print(f'{i} = ', end='')\n",
    "    sum += i\n",
    "print(sum)"
   ]
  },
  {
   "cell_type": "code",
   "execution_count": 17,
   "id": "aed6a6f1",
   "metadata": {},
   "outputs": [
    {
     "name": "stdout",
     "output_type": "stream",
     "text": [
      "a부터 b까지 정수의 합을 구합니다.\n",
      "정수 a를 입력하세요.: 10\n",
      "정수 b를 입력하세요.: 1\n",
      "1 + 2 + 3 + 4 + 5 + 6 + 7 + 8 + 9 + 10 = 55\n"
     ]
    }
   ],
   "source": [
    "# a부터 b까지 정수의 합 구하기 2\n",
    "\n",
    "print('a부터 b까지 정수의 합을 구합니다.')\n",
    "a = int(input('정수 a를 입력하세요.: '))\n",
    "b = int(input('정수 b를 입력하세요.: '))\n",
    "\n",
    "if a > b:\n",
    "    a,b = b,a\n",
    "\n",
    "sum = 0\n",
    "for i in range(a,b):\n",
    "    print(f'{i} + ', end='')\n",
    "    sum += i\n",
    "    \n",
    "print(f'{b} = ', end='')\n",
    "sum += b\n",
    "\n",
    "print(sum)"
   ]
  },
  {
   "cell_type": "markdown",
   "id": "1a882442",
   "metadata": {},
   "source": [
    "### 반복 과정에서 조건 판단하기 2"
   ]
  },
  {
   "cell_type": "code",
   "execution_count": 19,
   "id": "385f859a",
   "metadata": {},
   "outputs": [
    {
     "name": "stdout",
     "output_type": "stream",
     "text": [
      "+와 -를 번갈아 출력합니다.\n",
      "몇 개를 출력할까요?: 10\n",
      "+-+-+-+-+-\n"
     ]
    }
   ],
   "source": [
    "# +와 -를 번갈아 출력하기 1\n",
    "\n",
    "print('+와 -를 번갈아 출력합니다.')\n",
    "n = int(input('몇 개를 출력할까요?: '))\n",
    "\n",
    "for i in range(n):\n",
    "    if i % 2:   # i % 2 ==1 즉, 홀수인 경우\n",
    "        print('-', end='')\n",
    "    else:\n",
    "        print('+', end='') # 짝수인 경우\n",
    "\n",
    "print()\n",
    "        "
   ]
  },
  {
   "cell_type": "code",
   "execution_count": 20,
   "id": "be28477a",
   "metadata": {},
   "outputs": [
    {
     "name": "stdout",
     "output_type": "stream",
     "text": [
      "+와 -를 번갈아 출력합니다.\n",
      "몇 개를 출력할까요?: 10\n",
      "+-+-+-+-+-\n"
     ]
    }
   ],
   "source": [
    "# +와 -를 번갈아 출력하기 1(for 문 수정)\n",
    "\n",
    "print('+와 -를 번갈아 출력합니다.')\n",
    "n = int(input('몇 개를 출력할까요?: '))\n",
    "\n",
    "for i in range(1, n+1):\n",
    "    if i % 2:\n",
    "        print('+', end='')    # 위에서는 -, + 순\n",
    "    else:\n",
    "        print('-', end='')\n",
    "        \n",
    "print()"
   ]
  },
  {
   "cell_type": "code",
   "execution_count": 23,
   "id": "783318d3",
   "metadata": {},
   "outputs": [
    {
     "name": "stdout",
     "output_type": "stream",
     "text": [
      "+와 -를 번갈아 출력합니다.\n",
      "몇 개를 출력할까요?: 11\n",
      "+-+-+-+-+-+\n"
     ]
    }
   ],
   "source": [
    "# + 와 - 를 번갈아 출력하기 2\n",
    "\n",
    "print('+와 -를 번갈아 출력합니다.')\n",
    "n = int(input('몇 개를 출력할까요?: '))\n",
    "\n",
    "for _ in range(n // 2):  # _는 for 문에서 인덱스를 사용할 필요가 없을때 사용.\n",
    "    print('+-', end='')  # +-를 n//2개의 출력\n",
    "\n",
    "    \n",
    "if n % 2:\n",
    "    print('+', end='')   # n이 홀수일 때만 +를 출력\n",
    "\n",
    "print()"
   ]
  },
  {
   "cell_type": "markdown",
   "id": "4e18858f",
   "metadata": {},
   "source": [
    "### 반족 과정에서 조건 판단하기 3"
   ]
  },
  {
   "cell_type": "code",
   "execution_count": null,
   "id": "7cfc775f",
   "metadata": {},
   "outputs": [],
   "source": [
    "# *를 n개 출력하되 w개마다 줄바꿈하기 1\n",
    "\n",
    "print(\"*를 출력합니다.\")\n",
    "n = int(input('몇 개를 출력할까요?: '))\n",
    "w = int(input('몇 개마다 줄바꿈할까요?: '))\n",
    "\n",
    "for i in range(n):\n",
    "    print('*', end='')\n",
    "\n"
   ]
  }
 ],
 "metadata": {
  "kernelspec": {
   "display_name": "Python 3",
   "language": "python",
   "name": "python3"
  },
  "language_info": {
   "codemirror_mode": {
    "name": "ipython",
    "version": 3
   },
   "file_extension": ".py",
   "mimetype": "text/x-python",
   "name": "python",
   "nbconvert_exporter": "python",
   "pygments_lexer": "ipython3",
   "version": "3.8.9"
  }
 },
 "nbformat": 4,
 "nbformat_minor": 5
}
