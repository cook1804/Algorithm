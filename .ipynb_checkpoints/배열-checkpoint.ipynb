{
 "cells": [
  {
   "cell_type": "markdown",
   "id": "c3e0fdcc",
   "metadata": {},
   "source": [
    "### 배열 원소의 최댓값 구하기"
   ]
  },
  {
   "cell_type": "code",
   "execution_count": 5,
   "id": "18fbcac4",
   "metadata": {},
   "outputs": [],
   "source": [
    "def max_of(a):\n",
    "    maximum = a[0]\n",
    "    for i in range(1, len(a)):\n",
    "        if a[i] > maximum:\n",
    "            maximum = a[i]\n",
    "    return maximum"
   ]
  },
  {
   "cell_type": "code",
   "execution_count": 6,
   "id": "a03766bf",
   "metadata": {},
   "outputs": [
    {
     "data": {
      "text/plain": [
       "75"
      ]
     },
     "execution_count": 6,
     "metadata": {},
     "output_type": "execute_result"
    }
   ],
   "source": [
    "k = [1,4,5,2,75,12]\n",
    "max_of(k)"
   ]
  },
  {
   "cell_type": "code",
   "execution_count": 7,
   "id": "95befb32",
   "metadata": {},
   "outputs": [
    {
     "name": "stdout",
     "output_type": "stream",
     "text": [
      "배열의 최댓값을 구합니다.\n",
      "원소 수를 입력하세요.: 9\n",
      "x[0]값을 입력하세요.: 10\n",
      "x[1]값을 입력하세요.: 2\n",
      "x[2]값을 입력하세요.: 3\n",
      "x[3]값을 입력하세요.: 4\n",
      "x[4]값을 입력하세요.: 5\n",
      "x[5]값을 입력하세요.: 6\n",
      "x[6]값을 입력하세요.: 7\n",
      "x[7]값을 입력하세요.: 8\n",
      "x[8]값을 입력하세요.: 1\n",
      "최댓값은 10입니다.\n"
     ]
    }
   ],
   "source": [
    "# 시퀀스 원소의 최댓값 출력하기\n",
    "\n",
    "from typing import Any, Sequence\n",
    "    \n",
    "def max_of(a: Sequence) -> Any:\n",
    "    \"\"\"시퀀스형 a 원소의 최댓값을 반환\"\"\"\n",
    "    maximum = a[0]\n",
    "    for i in range(1,len(a)):\n",
    "        if a[i] > maximum:\n",
    "            maximum = a[i]\n",
    "    return maximum\n",
    "\n",
    "if __name__ == '__main__':\n",
    "    print('배열의 최댓값을 구합니다.')\n",
    "    num = int(input('원소 수를 입력하세요.: '))\n",
    "    x = [None] *num # 원소 수가 num인 리스트를 생성\n",
    "    \n",
    "    for i in range(num):\n",
    "        x[i] = int(input(f'x[{i}]값을 입력하세요.: '))\n",
    "        \n",
    "    print(f'최댓값은 {max_of(x)}입니다.')\n",
    "    "
   ]
  },
  {
   "cell_type": "markdown",
   "id": "0f34ffdb",
   "metadata": {},
   "source": [
    "## "
   ]
  }
 ],
 "metadata": {
  "kernelspec": {
   "display_name": "Python 3",
   "language": "python",
   "name": "python3"
  },
  "language_info": {
   "codemirror_mode": {
    "name": "ipython",
    "version": 3
   },
   "file_extension": ".py",
   "mimetype": "text/x-python",
   "name": "python",
   "nbconvert_exporter": "python",
   "pygments_lexer": "ipython3",
   "version": "3.8.9"
  }
 },
 "nbformat": 4,
 "nbformat_minor": 5
}
