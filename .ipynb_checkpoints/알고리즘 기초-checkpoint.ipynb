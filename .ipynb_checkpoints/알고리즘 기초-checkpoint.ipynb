{
 "cells": [
  {
   "cell_type": "markdown",
   "id": "ab973acd",
   "metadata": {},
   "source": [
    "### 3개로 분기하는 조건문"
   ]
  },
  {
   "cell_type": "code",
   "execution_count": 2,
   "id": "173c605d",
   "metadata": {},
   "outputs": [
    {
     "data": {
      "text/html": [
       "<style>.container { width:100% !important; }</style>"
      ],
      "text/plain": [
       "<IPython.core.display.HTML object>"
      ]
     },
     "metadata": {},
     "output_type": "display_data"
    }
   ],
   "source": [
    "from IPython.core.display import display, HTML\n",
    "display(HTML(\"<style>.container { width:100% !important; }</style>\"))"
   ]
  },
  {
   "cell_type": "code",
   "execution_count": 5,
   "id": "41c89816",
   "metadata": {},
   "outputs": [
    {
     "name": "stdout",
     "output_type": "stream",
     "text": [
      "정수를 입력하세요.: 4\n",
      "C\n"
     ]
    }
   ],
   "source": [
    "\n",
    "\n",
    "n = int(input('정수를 입력하세요.: '))\n",
    "\n",
    "if n == 1:\n",
    "    print('A')\n",
    "elif n == 2:\n",
    "    print('B')\n",
    "else:\n",
    "    print('C')\n",
    "\n"
   ]
  },
  {
   "cell_type": "markdown",
   "id": "8adadccf",
   "metadata": {},
   "source": [
    "### 4개로 분기하는 조건문(실습 1-5)"
   ]
  },
  {
   "cell_type": "code",
   "execution_count": 3,
   "id": "71f8a7e8",
   "metadata": {},
   "outputs": [
    {
     "name": "stdout",
     "output_type": "stream",
     "text": [
      "정수를 입력하세요: 4\n"
     ]
    }
   ],
   "source": [
    "n = int(input('정수를 입력하세요: '))\n",
    "\n",
    "if n == 1:\n",
    "    print('A')\n",
    "elif n == 2:\n",
    "    print('B')\n",
    "elif n == 3:\n",
    "    print('C')"
   ]
  },
  {
   "cell_type": "markdown",
   "id": "d904a218",
   "metadata": {},
   "source": [
    "### 실습 1-5 원래 모습"
   ]
  },
  {
   "cell_type": "code",
   "execution_count": 6,
   "id": "9de3abf0",
   "metadata": {},
   "outputs": [
    {
     "name": "stdout",
     "output_type": "stream",
     "text": [
      "정수를 입력하세요.4\n"
     ]
    }
   ],
   "source": [
    "n = int(input('정수를 입력하세요.'))\n",
    "\n",
    "if n == 1:\n",
    "    print('A')\n",
    "elif n == 2:\n",
    "    print('B')\n",
    "elif n == 3:\n",
    "    print('C')\n",
    "else:\n",
    "    pass    # 실행할 것이 아무것도 없다는 것을 의미. 따라서 아무런 동작을 하지 않고 다음 코드를 실행. 1,2,3 이외의 수를 입력하면 else문의 pass문이 실행된다."
   ]
  },
  {
   "cell_type": "code",
   "execution_count": 7,
   "id": "a7863356",
   "metadata": {},
   "outputs": [
    {
     "ename": "NameError",
     "evalue": "name 'x' is not defined",
     "output_type": "error",
     "traceback": [
      "\u001b[1;31m---------------------------------------------------------------------------\u001b[0m",
      "\u001b[1;31mNameError\u001b[0m                                 Traceback (most recent call last)",
      "\u001b[1;32m<ipython-input-7-c95e6b52e07f>\u001b[0m in \u001b[0;36m<module>\u001b[1;34m\u001b[0m\n\u001b[1;32m----> 1\u001b[1;33m \u001b[0ma\u001b[0m \u001b[1;33m=\u001b[0m \u001b[0mx\u001b[0m \u001b[1;32mif\u001b[0m \u001b[0mx\u001b[0m \u001b[1;33m>\u001b[0m \u001b[0my\u001b[0m \u001b[1;32melse\u001b[0m \u001b[0my\u001b[0m  \u001b[1;31m# x와 y 중 큰 값을 a에 대입\u001b[0m\u001b[1;33m\u001b[0m\u001b[1;33m\u001b[0m\u001b[0m\n\u001b[0m\u001b[0;32m      2\u001b[0m \u001b[0mprint\u001b[0m\u001b[1;33m(\u001b[0m\u001b[1;34m'c는 0입니다.'\u001b[0m \u001b[1;32mif\u001b[0m \u001b[0mc\u001b[0m \u001b[1;33m==\u001b[0m \u001b[1;36m0\u001b[0m \u001b[1;32melse\u001b[0m \u001b[1;34m'c는 0이 아닙니다.'\u001b[0m\u001b[1;33m)\u001b[0m \u001b[1;31m# c 값이 0이면 'c는 0입니다.'를 출력하고, 그렇지 않으면 'c는 0이 아닙니다.'를 출력합니다.\u001b[0m\u001b[1;33m\u001b[0m\u001b[1;33m\u001b[0m\u001b[0m\n",
      "\u001b[1;31mNameError\u001b[0m: name 'x' is not defined"
     ]
    }
   ],
   "source": [
    "a = x if x > y else y  # x와 y 중 큰 값을 a에 대입\n",
    "print('c는 0입니다.' if c == 0 else 'c는 0이 아닙니다.') # c 값이 0이면 'c는 0입니다.'를 출력하고, 그렇지 않으면 'c는 0이 아닙니다.'를 출력합니다."
   ]
  },
  {
   "cell_type": "markdown",
   "id": "c5a91454",
   "metadata": {},
   "source": [
    "### 1부터 n까지 정수의 합 구하기 1(while 문)"
   ]
  },
  {
   "cell_type": "code",
   "execution_count": 13,
   "id": "186a33d6",
   "metadata": {},
   "outputs": [
    {
     "name": "stdout",
     "output_type": "stream",
     "text": [
      "1부터 n까지 정수의 합을 구합니다.\n",
      "n값을 입력하세요: 4\n",
      "1부터 4까지 정수의 합은 10입니다.\n"
     ]
    }
   ],
   "source": [
    "print('1부터 n까지 정수의 합을 구합니다.')\n",
    "n = int(input('n값을 입력하세요: '))\n",
    "\n",
    "sum = 0\n",
    "i = 1\n",
    "\n",
    "while i <= n:\n",
    "    sum += i\n",
    "    i += 1\n",
    "\n",
    "print(f'1부터 {n}까지 정수의 합은 {sum}입니다.')"
   ]
  },
  {
   "cell_type": "markdown",
   "id": "b9c6cdf3",
   "metadata": {},
   "source": [
    "### 1부터 n까지 정수의 합 구하기 2(for 문)"
   ]
  },
  {
   "cell_type": "code",
   "execution_count": 10,
   "id": "62c70062",
   "metadata": {},
   "outputs": [
    {
     "name": "stdout",
     "output_type": "stream",
     "text": [
      "1부터 n까지 정수의 합을 구합니다.\n",
      "n값을 입력하세요.: 4\n",
      "1부터 4까지 정수의 합은 10입니다.\n"
     ]
    }
   ],
   "source": [
    "print('1부터 n까지 정수의 합을 구합니다.')\n",
    "n = int(input('n값을 입력하세요.: '))\n",
    "\n",
    "sum = 0 \n",
    "for i in range(1,n+1):\n",
    "    sum += i  # sum에 i를 더함\n",
    "\n",
    "print(f'1부터 {n}까지 정수의 합은 {sum}입니다.')"
   ]
  },
  {
   "cell_type": "markdown",
   "id": "8a209c73",
   "metadata": {},
   "source": [
    "### 1부터 n까지 정수의 합 구하기3(가우스의 덧셈)"
   ]
  },
  {
   "cell_type": "code",
   "execution_count": 12,
   "id": "67498c2f",
   "metadata": {
    "scrolled": true
   },
   "outputs": [
    {
     "name": "stdout",
     "output_type": "stream",
     "text": [
      "1부터 n까지 정수의 합을 구합니다.\n",
      "n값을 입력하세요.: 4\n",
      "1부터 4까지 정수의 합은 10입니다.\n"
     ]
    }
   ],
   "source": [
    "print('1부터 n까지 정수의 합을 구합니다.')\n",
    "n = int(input('n값을 입력하세요.: '))\n",
    "\n",
    "sum = n *(n + 1) // 2  # / 대신 // 한 이유는 n이 정수이고, n이 어떤 정 n(n+1)에서 \n",
    "print(f'1부터 {n}까지 정수의 합은 {sum}입니다.')"
   ]
  },
  {
   "cell_type": "markdown",
   "id": "5e5baddd",
   "metadata": {},
   "source": [
    "# 연속하는 정수의 합을 구하기 위해 값 정렬하기"
   ]
  },
  {
   "cell_type": "markdown",
   "id": "0ff4e6fa",
   "metadata": {},
   "source": [
    "### a부터 b까지 정수의 합 구하기(for 문)"
   ]
  },
  {
   "cell_type": "code",
   "execution_count": 15,
   "id": "d9049699",
   "metadata": {},
   "outputs": [
    {
     "name": "stdout",
     "output_type": "stream",
     "text": [
      "a부터 b까지 정수의 합을 구합니다.\n",
      "정수 a를 입력하세요.: 6\n",
      "정수 b를 입력하세요.: 2\n",
      "2부터 6까지 정수의 합은 20입니다.\n"
     ]
    }
   ],
   "source": [
    "print('a부터 b까지 정수의 합을 구합니다.')\n",
    "a = int(input('정수 a를 입력하세요.: '))\n",
    "b = int(input('정수 b를 입력하세요.: '))\n",
    "\n",
    "if a > b:\n",
    "    a,b = b,a # a와 b 를 오름차순으로 정렬\n",
    "\n",
    "sum = 0\n",
    "for i in range(a,b+1):\n",
    "    sum += i\n",
    "\n",
    "print(f'{a}부터 {b}까지 정수의 합은 {sum}입니다.')"
   ]
  },
  {
   "cell_type": "markdown",
   "id": "6f41ece3",
   "metadata": {},
   "source": [
    "## 반복 과정에서 조건 판단하기 1"
   ]
  },
  {
   "cell_type": "code",
   "execution_count": 16,
   "id": "039cf6b4",
   "metadata": {},
   "outputs": [
    {
     "name": "stdout",
     "output_type": "stream",
     "text": [
      "a부터 b까지 정수의 합을 구합니다.\n",
      "정수 a를 입력하세요.: 5\n",
      "정수 b를 입력하세요.: 3\n",
      "3 + 4 + 5 = 12\n"
     ]
    }
   ],
   "source": [
    "# a부터 b까지 정수의 합 구하기1\n",
    "\n",
    "print('a부터 b까지 정수의 합을 구합니다.')\n",
    "a = int(input('정수 a를 입력하세요.: '))\n",
    "b = int(input('정수 b를 입력하세요.: '))\n",
    "\n",
    "if a > b:\n",
    "    a,b = b,a\n",
    "\n",
    "sum = 0\n",
    "for i in range(a,b+1):\n",
    "    if i < b:\n",
    "        print(f'{i} + ', end='')\n",
    "    else:\n",
    "        print(f'{i} = ', end='')\n",
    "    sum += i\n",
    "print(sum)"
   ]
  },
  {
   "cell_type": "code",
   "execution_count": 17,
   "id": "aed6a6f1",
   "metadata": {},
   "outputs": [
    {
     "name": "stdout",
     "output_type": "stream",
     "text": [
      "a부터 b까지 정수의 합을 구합니다.\n",
      "정수 a를 입력하세요.: 10\n",
      "정수 b를 입력하세요.: 1\n",
      "1 + 2 + 3 + 4 + 5 + 6 + 7 + 8 + 9 + 10 = 55\n"
     ]
    }
   ],
   "source": [
    "# a부터 b까지 정수의 합 구하기 2\n",
    "\n",
    "print('a부터 b까지 정수의 합을 구합니다.')\n",
    "a = int(input('정수 a를 입력하세요.: '))\n",
    "b = int(input('정수 b를 입력하세요.: '))\n",
    "\n",
    "if a > b:\n",
    "    a,b = b,a\n",
    "\n",
    "sum = 0\n",
    "for i in range(a,b):\n",
    "    print(f'{i} + ', end='')\n",
    "    sum += i\n",
    "    \n",
    "print(f'{b} = ', end='')\n",
    "sum += b\n",
    "\n",
    "print(sum)"
   ]
  },
  {
   "cell_type": "markdown",
   "id": "1a882442",
   "metadata": {},
   "source": [
    "### 반복 과정에서 조건 판단하기 2"
   ]
  },
  {
   "cell_type": "code",
   "execution_count": 19,
   "id": "385f859a",
   "metadata": {},
   "outputs": [
    {
     "name": "stdout",
     "output_type": "stream",
     "text": [
      "+와 -를 번갈아 출력합니다.\n",
      "몇 개를 출력할까요?: 10\n",
      "+-+-+-+-+-\n"
     ]
    }
   ],
   "source": [
    "# +와 -를 번갈아 출력하기 1\n",
    "\n",
    "print('+와 -를 번갈아 출력합니다.')\n",
    "n = int(input('몇 개를 출력할까요?: '))\n",
    "\n",
    "for i in range(n):\n",
    "    if i % 2:   # i % 2 ==1 즉, 홀수인 경우\n",
    "        print('-', end='')\n",
    "    else:\n",
    "        print('+', end='') # 짝수인 경우\n",
    "\n",
    "print()\n",
    "        "
   ]
  },
  {
   "cell_type": "code",
   "execution_count": 20,
   "id": "be28477a",
   "metadata": {},
   "outputs": [
    {
     "name": "stdout",
     "output_type": "stream",
     "text": [
      "+와 -를 번갈아 출력합니다.\n",
      "몇 개를 출력할까요?: 10\n",
      "+-+-+-+-+-\n"
     ]
    }
   ],
   "source": [
    "# +와 -를 번갈아 출력하기 1(for 문 수정)\n",
    "\n",
    "print('+와 -를 번갈아 출력합니다.')\n",
    "n = int(input('몇 개를 출력할까요?: '))\n",
    "\n",
    "for i in range(1, n+1):\n",
    "    if i % 2:\n",
    "        print('+', end='')    # 위에서는 -, + 순\n",
    "    else:\n",
    "        print('-', end='')\n",
    "        \n",
    "print()"
   ]
  },
  {
   "cell_type": "code",
   "execution_count": 23,
   "id": "783318d3",
   "metadata": {},
   "outputs": [
    {
     "name": "stdout",
     "output_type": "stream",
     "text": [
      "+와 -를 번갈아 출력합니다.\n",
      "몇 개를 출력할까요?: 11\n",
      "+-+-+-+-+-+\n"
     ]
    }
   ],
   "source": [
    "# + 와 - 를 번갈아 출력하기 2\n",
    "\n",
    "print('+와 -를 번갈아 출력합니다.')\n",
    "n = int(input('몇 개를 출력할까요?: '))\n",
    "\n",
    "for _ in range(n // 2):  # _는 for 문에서 인덱스를 사용할 필요가 없을때 사용.\n",
    "    print('+-', end='')  # +-를 n//2개의 출력\n",
    "\n",
    "    \n",
    "if n % 2:\n",
    "    print('+', end='')   # n이 홀수일 때만 +를 출력\n",
    "\n",
    "print()"
   ]
  },
  {
   "cell_type": "markdown",
   "id": "4e18858f",
   "metadata": {},
   "source": [
    "### 반복 과정에서 조건 판단하기 3"
   ]
  },
  {
   "cell_type": "code",
   "execution_count": 7,
   "id": "7cfc775f",
   "metadata": {},
   "outputs": [
    {
     "name": "stdout",
     "output_type": "stream",
     "text": [
      "*를 출력합니다.\n",
      "몇 개를 출력할까요?: 15\n",
      "몇 개마다 줄바꿈할까요?: 4\n",
      "****\n",
      "****\n",
      "****\n",
      "***\n"
     ]
    }
   ],
   "source": [
    "# *를 n개 출력하되 w개마다 줄바꿈하기 1\n",
    "\n",
    "print(\"*를 출력합니다.\")\n",
    "n = int(input('몇 개를 출력할까요?: '))\n",
    "w = int(input('몇 개마다 줄바꿈할까요?: '))\n",
    "\n",
    "for i in range(n):\n",
    "    print('*', end='')\n",
    "    if i % w == w - 1:  # 0,1,2,3 \n",
    "        print()\n",
    "\n",
    "if n % w:\n",
    "    print()\n",
    "    \n",
    "\n"
   ]
  },
  {
   "cell_type": "code",
   "execution_count": 9,
   "id": "700ae04c",
   "metadata": {},
   "outputs": [
    {
     "name": "stdout",
     "output_type": "stream",
     "text": [
      "*을 출력합니다.\n",
      "몇 개를 출력할까요?: 13\n",
      "몇 개마다 줄바꿈할까요?: 5\n",
      "*****\n",
      "*****\n",
      "***\n"
     ]
    }
   ],
   "source": [
    "# *을 n개 출력하되 w개마다 줄바꿈하기 2\n",
    "\n",
    "print('*을 출력합니다.')\n",
    "n = int(input('몇 개를 출력할까요?: '))\n",
    "w = int(input('몇 개마다 줄바꿈할까요?: '))\n",
    "\n",
    "for _ in range(n // w): # n // w번 반복\n",
    "    print('*'*w)\n",
    "\n",
    "rest = n % w\n",
    "if rest: # if문 판단 1번  rest = 0 이 아니면 if 문 실행함.\n",
    "    print('*' * rest)"
   ]
  },
  {
   "cell_type": "code",
   "execution_count": 11,
   "id": "9907fff7",
   "metadata": {},
   "outputs": [
    {
     "name": "stdout",
     "output_type": "stream",
     "text": [
      "1부터 n까지 정수의 합을 구합니다.\n",
      "n값을 입력하세요: -6\n",
      "n값을 입력하세요: 5\n",
      "1부터 5까지 정수의 합은 15입니다.\n"
     ]
    }
   ],
   "source": [
    "# 1부터 n까지 정수의 합 구하기(n값은 양수만 입력받음)\n",
    "\n",
    "print('1부터 n까지 정수의 합을 구합니다.')\n",
    "while True:\n",
    "    n = int(input('n값을 입력하세요: '))\n",
    "    if n > 0:\n",
    "        break\n",
    "        \n",
    "sum = 0\n",
    "i = 1\n",
    "\n",
    "for i in range(1,n+1):\n",
    "    sum += i # sum에 i를 더함 \n",
    "    i += 1   # i에 1을 더함\n",
    "\n",
    "print(f'1부터 {n}까지 정수의 합은 {sum}입니다.')"
   ]
  },
  {
   "cell_type": "code",
   "execution_count": 1,
   "id": "d284f2c0",
   "metadata": {},
   "outputs": [
    {
     "name": "stdout",
     "output_type": "stream",
     "text": [
      "직사각형의 넓이를 입력하세요.: 32\n",
      "1 x 32\n",
      "2 x 16\n",
      "4 x 8\n"
     ]
    }
   ],
   "source": [
    "# 가로, 세로 길이가 정수이고 넓이가 area인 직사각형에서 변의 길이 나열하기\n",
    "\n",
    "area = int(input('직사각형의 넓이를 입력하세요.: '))\n",
    "\n",
    "for i in range(1, area + 1):\n",
    "    if i * i > area: break\n",
    "    if area % i : continue\n",
    "    print(f'{i} x {area // i}')"
   ]
  },
  {
   "cell_type": "code",
   "execution_count": 27,
   "id": "549dedcf",
   "metadata": {},
   "outputs": [
    {
     "name": "stdout",
     "output_type": "stream",
     "text": [
      "난수의 개수를 입력하세요.: 3\n",
      "46 80 79 \n",
      "난수 생성을 종료합니다.\n"
     ]
    }
   ],
   "source": [
    "# 10~ 99 사이의 난수 n개 생성하기(13이 나오면 중단)\n",
    "\n",
    "import random \n",
    "\n",
    "n = int(input('난수의 개수를 입력하세요.: '))\n",
    "\n",
    "for _ in range(n):\n",
    "    r = random.randint(10,99)\n",
    "    print(r, end=' ')\n",
    "    if r == 13 :\n",
    "        print('\\n프로그램을 중단합니다.')\n",
    "        break\n",
    "else:\n",
    "    print('\\n난수 생성을 종료합니다.')"
   ]
  },
  {
   "cell_type": "code",
   "execution_count": 28,
   "id": "f3bcff3d",
   "metadata": {},
   "outputs": [
    {
     "name": "stdout",
     "output_type": "stream",
     "text": [
      "1 2 3 4 5 6 7 9 10 11 12 \n"
     ]
    }
   ],
   "source": [
    "# 1 ~ 12까지 8을 건너뛰고 출력하기 1\n",
    "\n",
    "for i in range(1,13):  # if문을 12번 반복\n",
    "    if i ==8:\n",
    "        continue\n",
    "    print(i,end=' ')\n",
    "print()"
   ]
  },
  {
   "cell_type": "code",
   "execution_count": 30,
   "id": "033c51a5",
   "metadata": {},
   "outputs": [
    {
     "name": "stdout",
     "output_type": "stream",
     "text": [
      "1 2 3 4 5 6 7 9 10 11 12 \n"
     ]
    }
   ],
   "source": [
    "# 1부터 12 까지의 8을 건너뛰고 출력하기 2\n",
    "\n",
    "for i in list(range(1,8))+ list(range(9,13)):   # 여전히 for문으로 리스트의 원소를 하나씩 꺼내 반복하므로 반복을 위한 연산 비용은 여전히 발생.\n",
    "    print(i, end=' ')                     \n",
    "print()"
   ]
  },
  {
   "cell_type": "code",
   "execution_count": 31,
   "id": "e7264cd0",
   "metadata": {},
   "outputs": [
    {
     "name": "stdout",
     "output_type": "stream",
     "text": [
      "2자리 양수를 입력하세요.\n",
      "값을 입력하세요.: 100\n",
      "값을 입력하세요.: 1\n",
      "값을 입력하세요.: 39\n",
      "입력받은 양수는 39입니다.\n"
     ]
    }
   ],
   "source": [
    "# 2자리 양수(10~99) 입력받기\n",
    "\n",
    "print('2자리 양수를 입력하세요.')\n",
    "\n",
    "while True:\n",
    "    no = int(input('값을 입력하세요.: '))\n",
    "    if no >= 10 and no <= 99:\n",
    "        break\n",
    "        \n",
    "print(f'입력받은 양수는 {no}입니다.')"
   ]
  },
  {
   "cell_type": "code",
   "execution_count": 1,
   "id": "8ec051b6",
   "metadata": {},
   "outputs": [
    {
     "name": "stdout",
     "output_type": "stream",
     "text": [
      "2자리 양수를 입력하세요.\n",
      "값을 입력하세요.: 23\n",
      "입력받은 양수는 23입니다.\n"
     ]
    }
   ],
   "source": [
    "# 2자리 양수(10~99) 입력받기\n",
    "\n",
    "print('2자리 양수를 입력하세요.')\n",
    "\n",
    "while True:\n",
    "    no =int(input('값을 입력하세요.: '))\n",
    "    if no >= 10 and no <= 99: \n",
    "        break\n",
    "\n",
    "print(f'입력받은 양수는 {no}입니다.')"
   ]
  },
  {
   "cell_type": "markdown",
   "id": "0e6c7dd5",
   "metadata": {},
   "source": [
    "## 다중루프 알아보기"
   ]
  },
  {
   "cell_type": "code",
   "execution_count": 3,
   "id": "5bae383d",
   "metadata": {},
   "outputs": [
    {
     "name": "stdout",
     "output_type": "stream",
     "text": [
      "---------------------------\n",
      "  1  2  3  4  5  6  7  8  9\n",
      "  2  4  6  8 10 12 14 16 18\n",
      "  3  6  9 12 15 18 21 24 27\n",
      "  4  8 12 16 20 24 28 32 36\n",
      "  5 10 15 20 25 30 35 40 45\n",
      "  6 12 18 24 30 36 42 48 54\n",
      "  7 14 21 28 35 42 49 56 63\n",
      "  8 16 24 32 40 48 56 64 72\n",
      "  9 18 27 36 45 54 63 72 81\n",
      "---------------------------\n"
     ]
    }
   ],
   "source": [
    "# 구구단 곱셈표 출력하기\n",
    "\n",
    "print('-' * 27)\n",
    "for i in range(1,10):\n",
    "    for j in range(1,10):\n",
    "        print(f'{i * j:3}',end='')\n",
    "    print()\n",
    "print('-' * 27)"
   ]
  },
  {
   "cell_type": "code",
   "execution_count": 5,
   "id": "cf489027",
   "metadata": {},
   "outputs": [
    {
     "name": "stdout",
     "output_type": "stream",
     "text": [
      "왼쪽 아래가 직각인 이등변 삼각형을 출력합니다.\n",
      "짧은 변의 길이를 입력하세요.: 5\n",
      "*\n",
      "**\n",
      "***\n",
      "****\n",
      "*****\n"
     ]
    }
   ],
   "source": [
    "# 왼쪽 아래가 직각인 이등변 삼각형으로 * 출력하기\n",
    "\n",
    "print('왼쪽 아래가 직각인 이등변 삼각형을 출력합니다.')\n",
    "n = int(input('짧은 변의 길이를 입력하세요.: '))\n",
    "\n",
    "for i in range(n):\n",
    "    for j in range(i + 1):\n",
    "        print('*', end='')\n",
    "    print()"
   ]
  },
  {
   "cell_type": "code",
   "execution_count": 6,
   "id": "49535bb1",
   "metadata": {},
   "outputs": [
    {
     "name": "stdout",
     "output_type": "stream",
     "text": [
      "오른쪽 아래가 직각인 이등변 삼각형을 출력합니다.\n",
      "짧은 변의 길이를 입력하세요.: 4\n",
      "   *\n",
      "  **\n",
      " ***\n",
      "****\n"
     ]
    }
   ],
   "source": [
    "# 오른쪽 아래가 직각인 이등변 삼각형으로 * 출력하기\n",
    "\n",
    "print('오른쪽 아래가 직각인 이등변 삼각형을 출력합니다.')\n",
    "n = int(input('짧은 변의 길이를 입력하세요.: '))\n",
    "for i in range(n):\n",
    "    for _ in range(n - i - 1):\n",
    "        print(' ', end='')\n",
    "    for _ in range(i+1):\n",
    "        print('*', end='')\n",
    "    print()"
   ]
  },
  {
   "cell_type": "code",
   "execution_count": 8,
   "id": "c4957ad9",
   "metadata": {},
   "outputs": [
    {
     "name": "stdout",
     "output_type": "stream",
     "text": [
      "id(1) = 140715466430128\n",
      "id(n) = 140715466430128\n",
      "id(x) = 140715466430128\n"
     ]
    }
   ],
   "source": [
    "# 함수 내부 외부에서 정의한 변수와 객체의 식별 번호를 출력하기\n",
    "\n",
    "n = 1   # 전역 변수(함수 내부,외부에서 사용),프로그램 전체에서 사용할 수 있는 전역 변수\n",
    "def put_id():\n",
    "    x = 1 # 지역 변수(함수 내부에서만 사용)\n",
    "    print(f'id(x) = {id(x)}')\n",
    "    \n",
    "print(f'id(1) = {id(1)}')\n",
    "print(f'id(n) = {id(n)}')\n",
    "put_id()"
   ]
  },
  {
   "cell_type": "code",
   "execution_count": 10,
   "id": "06b57ad7",
   "metadata": {},
   "outputs": [
    {
     "name": "stdout",
     "output_type": "stream",
     "text": [
      "i =   1    id(i) = 140715466430128\n",
      "i =   2    id(i) = 140715466430160\n",
      "i =   3    id(i) = 140715466430192\n",
      "i =   4    id(i) = 140715466430224\n",
      "i =   5    id(i) = 140715466430256\n",
      "i =   6    id(i) = 140715466430288\n",
      "i =   7    id(i) = 140715466430320\n",
      "i =   8    id(i) = 140715466430352\n",
      "i =   9    id(i) = 140715466430384\n",
      "i =  10    id(i) = 140715466430416\n",
      "i =  11    id(i) = 140715466430448\n",
      "i =  12    id(i) = 140715466430480\n",
      "i =  13    id(i) = 140715466430512\n",
      "i =  14    id(i) = 140715466430544\n",
      "i =  15    id(i) = 140715466430576\n",
      "i =  16    id(i) = 140715466430608\n",
      "i =  17    id(i) = 140715466430640\n",
      "i =  18    id(i) = 140715466430672\n",
      "i =  19    id(i) = 140715466430704\n",
      "i =  20    id(i) = 140715466430736\n",
      "i =  21    id(i) = 140715466430768\n",
      "i =  22    id(i) = 140715466430800\n",
      "i =  23    id(i) = 140715466430832\n",
      "i =  24    id(i) = 140715466430864\n",
      "i =  25    id(i) = 140715466430896\n",
      "i =  26    id(i) = 140715466430928\n",
      "i =  27    id(i) = 140715466430960\n",
      "i =  28    id(i) = 140715466430992\n",
      "i =  29    id(i) = 140715466431024\n",
      "i =  30    id(i) = 140715466431056\n",
      "i =  31    id(i) = 140715466431088\n",
      "i =  32    id(i) = 140715466431120\n",
      "i =  33    id(i) = 140715466431152\n",
      "i =  34    id(i) = 140715466431184\n",
      "i =  35    id(i) = 140715466431216\n",
      "i =  36    id(i) = 140715466431248\n",
      "i =  37    id(i) = 140715466431280\n",
      "i =  38    id(i) = 140715466431312\n",
      "i =  39    id(i) = 140715466431344\n",
      "i =  40    id(i) = 140715466431376\n",
      "i =  41    id(i) = 140715466431408\n",
      "i =  42    id(i) = 140715466431440\n",
      "i =  43    id(i) = 140715466431472\n",
      "i =  44    id(i) = 140715466431504\n",
      "i =  45    id(i) = 140715466431536\n",
      "i =  46    id(i) = 140715466431568\n",
      "i =  47    id(i) = 140715466431600\n",
      "i =  48    id(i) = 140715466431632\n",
      "i =  49    id(i) = 140715466431664\n",
      "i =  50    id(i) = 140715466431696\n",
      "i =  51    id(i) = 140715466431728\n",
      "i =  52    id(i) = 140715466431760\n",
      "i =  53    id(i) = 140715466431792\n",
      "i =  54    id(i) = 140715466431824\n",
      "i =  55    id(i) = 140715466431856\n",
      "i =  56    id(i) = 140715466431888\n",
      "i =  57    id(i) = 140715466431920\n",
      "i =  58    id(i) = 140715466431952\n",
      "i =  59    id(i) = 140715466431984\n",
      "i =  60    id(i) = 140715466432016\n",
      "i =  61    id(i) = 140715466432048\n",
      "i =  62    id(i) = 140715466432080\n",
      "i =  63    id(i) = 140715466432112\n",
      "i =  64    id(i) = 140715466432144\n",
      "i =  65    id(i) = 140715466432176\n",
      "i =  66    id(i) = 140715466432208\n",
      "i =  67    id(i) = 140715466432240\n",
      "i =  68    id(i) = 140715466432272\n",
      "i =  69    id(i) = 140715466432304\n",
      "i =  70    id(i) = 140715466432336\n",
      "i =  71    id(i) = 140715466432368\n",
      "i =  72    id(i) = 140715466432400\n",
      "i =  73    id(i) = 140715466432432\n",
      "i =  74    id(i) = 140715466432464\n",
      "i =  75    id(i) = 140715466432496\n",
      "i =  76    id(i) = 140715466432528\n",
      "i =  77    id(i) = 140715466432560\n",
      "i =  78    id(i) = 140715466432592\n",
      "i =  79    id(i) = 140715466432624\n",
      "i =  80    id(i) = 140715466432656\n",
      "i =  81    id(i) = 140715466432688\n",
      "i =  82    id(i) = 140715466432720\n",
      "i =  83    id(i) = 140715466432752\n",
      "i =  84    id(i) = 140715466432784\n",
      "i =  85    id(i) = 140715466432816\n",
      "i =  86    id(i) = 140715466432848\n",
      "i =  87    id(i) = 140715466432880\n",
      "i =  88    id(i) = 140715466432912\n",
      "i =  89    id(i) = 140715466432944\n",
      "i =  90    id(i) = 140715466432976\n",
      "i =  91    id(i) = 140715466433008\n",
      "i =  92    id(i) = 140715466433040\n",
      "i =  93    id(i) = 140715466433072\n",
      "i =  94    id(i) = 140715466433104\n",
      "i =  95    id(i) = 140715466433136\n",
      "i =  96    id(i) = 140715466433168\n",
      "i =  97    id(i) = 140715466433200\n",
      "i =  98    id(i) = 140715466433232\n",
      "i =  99    id(i) = 140715466433264\n",
      "i = 100    id(i) = 140715466433296\n"
     ]
    }
   ],
   "source": [
    "#1부터 100까지 반복하여 출력하기\n",
    "\n",
    "for i in range(1,101):\n",
    "    print(f'i = {i:3}    id(i) = {id(i)}')"
   ]
  },
  {
   "cell_type": "code",
   "execution_count": null,
   "id": "140d875c",
   "metadata": {},
   "outputs": [],
   "source": []
  }
 ],
 "metadata": {
  "kernelspec": {
   "display_name": "Python 3",
   "language": "python",
   "name": "python3"
  },
  "language_info": {
   "codemirror_mode": {
    "name": "ipython",
    "version": 3
   },
   "file_extension": ".py",
   "mimetype": "text/x-python",
   "name": "python",
   "nbconvert_exporter": "python",
   "pygments_lexer": "ipython3",
   "version": "3.8.9"
  }
 },
 "nbformat": 4,
 "nbformat_minor": 5
}
