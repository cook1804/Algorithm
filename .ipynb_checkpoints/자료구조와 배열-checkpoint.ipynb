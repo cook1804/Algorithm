{
 "cells": [
  {
   "cell_type": "markdown",
   "id": "73d79fae",
   "metadata": {},
   "source": [
    "### ---배열을 사용하면 따로따로 흩어진 변수를 하나로 묶어서 사용할 수 있어 코드를 쉽고 효율적으로 작성할 수 있다.---"
   ]
  },
  {
   "cell_type": "code",
   "execution_count": 3,
   "id": "f201d01e",
   "metadata": {},
   "outputs": [
    {
     "name": "stdout",
     "output_type": "stream",
     "text": [
      "학생 그룹 점수의 합계와 평균을 구합니다.\n",
      "1번 학생의 점수를 입력하세요.: 32\n",
      "2번 학생의 점수를 입력하세요.: 68\n",
      "3번 학생의 점수를 입력하세요.: 72\n",
      "4번 학생의 점수를 입력하세요.: 54\n",
      "5번 학생의 점수를 입력하세요.: 92\n",
      "합계는 318점입니다.\n",
      "평균은 63.6점입니다.\n"
     ]
    }
   ],
   "source": [
    "# 학생 5명의 시험 점수를 입력받아 합계와 평균을 출력하기\n",
    "\n",
    "print('학생 그룹 점수의 합계와 평균을 구합니다.')\n",
    "\n",
    "score1 = int(input('1번 학생의 점수를 입력하세요.: '))\n",
    "score2 = int(input('2번 학생의 점수를 입력하세요.: '))\n",
    "score3 = int(input('3번 학생의 점수를 입력하세요.: '))\n",
    "score4 = int(input('4번 학생의 점수를 입력하세요.: '))\n",
    "score5 = int(input('5번 학생의 점수를 입력하세요.: '))\n",
    "\n",
    "total = 0\n",
    "\n",
    "total += score1\n",
    "total += score2\n",
    "total += score3\n",
    "total += score4\n",
    "total += score5\n",
    "\n",
    "print(f'합계는 {total}점입니다.')\n",
    "print(f'평균은 {total / 5}점입니다.')\n",
    "\n"
   ]
  },
  {
   "cell_type": "markdown",
   "id": "52ab49ce",
   "metadata": {},
   "source": [
    "##### 리스트 간단히 살펴보기"
   ]
  },
  {
   "cell_type": "code",
   "execution_count": 4,
   "id": "1a7a1a41",
   "metadata": {},
   "outputs": [
    {
     "data": {
      "text/plain": [
       "[]"
      ]
     },
     "execution_count": 4,
     "metadata": {},
     "output_type": "execute_result"
    }
   ],
   "source": [
    "list()"
   ]
  },
  {
   "cell_type": "code",
   "execution_count": 5,
   "id": "3e04d359",
   "metadata": {},
   "outputs": [
    {
     "data": {
      "text/plain": [
       "['A', 'B', 'C']"
      ]
     },
     "execution_count": 5,
     "metadata": {},
     "output_type": "execute_result"
    }
   ],
   "source": [
    "list('ABC')"
   ]
  },
  {
   "cell_type": "code",
   "execution_count": 7,
   "id": "bece32ec",
   "metadata": {},
   "outputs": [
    {
     "data": {
      "text/plain": [
       "[1, 2, 3]"
      ]
     },
     "execution_count": 7,
     "metadata": {},
     "output_type": "execute_result"
    }
   ],
   "source": [
    "list([1,2,3])"
   ]
  },
  {
   "cell_type": "code",
   "execution_count": 9,
   "id": "b9630720",
   "metadata": {},
   "outputs": [
    {
     "data": {
      "text/plain": [
       "[1, 2, 3]"
      ]
     },
     "execution_count": 9,
     "metadata": {},
     "output_type": "execute_result"
    }
   ],
   "source": [
    "list((1,2,3))"
   ]
  },
  {
   "cell_type": "code",
   "execution_count": 11,
   "id": "57f59097",
   "metadata": {},
   "outputs": [
    {
     "data": {
      "text/plain": [
       "[1, 2, 3]"
      ]
     },
     "execution_count": 11,
     "metadata": {},
     "output_type": "execute_result"
    }
   ],
   "source": [
    "list({1,2,3})"
   ]
  },
  {
   "cell_type": "code",
   "execution_count": 14,
   "id": "3ae30a7f",
   "metadata": {},
   "outputs": [
    {
     "data": {
      "text/plain": [
       "[0, 1, 2, 3, 4, 5, 6]"
      ]
     },
     "execution_count": 14,
     "metadata": {},
     "output_type": "execute_result"
    }
   ],
   "source": [
    "list(range(7))"
   ]
  },
  {
   "cell_type": "code",
   "execution_count": 16,
   "id": "217ed711",
   "metadata": {},
   "outputs": [
    {
     "data": {
      "text/plain": [
       "[3, 4, 5, 6, 7]"
      ]
     },
     "execution_count": 16,
     "metadata": {},
     "output_type": "execute_result"
    }
   ],
   "source": [
    "list(range(3,8))"
   ]
  },
  {
   "cell_type": "code",
   "execution_count": 18,
   "id": "84a177f6",
   "metadata": {},
   "outputs": [
    {
     "data": {
      "text/plain": [
       "[3, 5, 7, 9, 11]"
      ]
     },
     "execution_count": 18,
     "metadata": {},
     "output_type": "execute_result"
    }
   ],
   "source": [
    "list(range(3,13,2))"
   ]
  },
  {
   "cell_type": "markdown",
   "id": "61c8f6bb",
   "metadata": {},
   "source": [
    "#### 튜플 간단히 살펴보기"
   ]
  },
  {
   "cell_type": "code",
   "execution_count": 22,
   "id": "99e369fc",
   "metadata": {},
   "outputs": [
    {
     "data": {
      "text/plain": [
       "()"
      ]
     },
     "execution_count": 22,
     "metadata": {},
     "output_type": "execute_result"
    }
   ],
   "source": [
    "# 튜플은 리스트와 다르게 결합 연산자'()'를 생략할 수 있다.\n",
    "\n",
    "()"
   ]
  },
  {
   "cell_type": "code",
   "execution_count": 21,
   "id": "66c246f2",
   "metadata": {},
   "outputs": [
    {
     "data": {
      "text/plain": [
       "(1,)"
      ]
     },
     "execution_count": 21,
     "metadata": {},
     "output_type": "execute_result"
    }
   ],
   "source": [
    "1,  #원소가 1개인 경우 원소 뒤에 쉼표를 반드시 입력해야 한다. 아니면 그냥 1 이랑 구분이 안가기 때문"
   ]
  },
  {
   "cell_type": "code",
   "execution_count": 24,
   "id": "ad5c65e3",
   "metadata": {},
   "outputs": [
    {
     "data": {
      "text/plain": [
       "(1,)"
      ]
     },
     "execution_count": 24,
     "metadata": {},
     "output_type": "execute_result"
    }
   ],
   "source": [
    "(1,)"
   ]
  },
  {
   "cell_type": "code",
   "execution_count": 25,
   "id": "3f5e62dc",
   "metadata": {},
   "outputs": [
    {
     "data": {
      "text/plain": [
       "(1, 2, 3)"
      ]
     },
     "execution_count": 25,
     "metadata": {},
     "output_type": "execute_result"
    }
   ],
   "source": [
    "1,2,3"
   ]
  },
  {
   "cell_type": "code",
   "execution_count": 26,
   "id": "a2863466",
   "metadata": {},
   "outputs": [
    {
     "data": {
      "text/plain": [
       "(1, 2, 3)"
      ]
     },
     "execution_count": 26,
     "metadata": {},
     "output_type": "execute_result"
    }
   ],
   "source": [
    "1,2,3,"
   ]
  },
  {
   "cell_type": "code",
   "execution_count": 27,
   "id": "58baa88e",
   "metadata": {},
   "outputs": [
    {
     "data": {
      "text/plain": [
       "(1, 2, 3)"
      ]
     },
     "execution_count": 27,
     "metadata": {},
     "output_type": "execute_result"
    }
   ],
   "source": [
    "(1,2,3)"
   ]
  },
  {
   "cell_type": "code",
   "execution_count": 28,
   "id": "10f57b76",
   "metadata": {},
   "outputs": [
    {
     "data": {
      "text/plain": [
       "(1, 2, 3)"
      ]
     },
     "execution_count": 28,
     "metadata": {},
     "output_type": "execute_result"
    }
   ],
   "source": [
    "(1,2,3,)"
   ]
  },
  {
   "cell_type": "code",
   "execution_count": 29,
   "id": "c404687d",
   "metadata": {},
   "outputs": [
    {
     "data": {
      "text/plain": [
       "('A', 'B', 'C')"
      ]
     },
     "execution_count": 29,
     "metadata": {},
     "output_type": "execute_result"
    }
   ],
   "source": [
    "'A','B','C'"
   ]
  },
  {
   "cell_type": "code",
   "execution_count": 30,
   "id": "6ba856f7",
   "metadata": {},
   "outputs": [],
   "source": [
    "v01 = 1  # 1 튜플이 아닌 하나의 값을 가진 int형 변수\n",
    "v02 =(1) # 1 튜플이 아닌 하나의 값을 가진 int형 변수 ,why? 1뒤에 쉼표를 붙이지 않았기 때문에 tuple 로 인식하지 않음. (1)=1 (5+2)=7 인것처럼. "
   ]
  },
  {
   "cell_type": "code",
   "execution_count": 31,
   "id": "5b9d02fe",
   "metadata": {},
   "outputs": [
    {
     "data": {
      "text/plain": [
       "()"
      ]
     },
     "execution_count": 31,
     "metadata": {},
     "output_type": "execute_result"
    }
   ],
   "source": [
    "tuple()"
   ]
  },
  {
   "cell_type": "code",
   "execution_count": 32,
   "id": "40949a92",
   "metadata": {},
   "outputs": [
    {
     "data": {
      "text/plain": [
       "('A', 'B', 'C')"
      ]
     },
     "execution_count": 32,
     "metadata": {},
     "output_type": "execute_result"
    }
   ],
   "source": [
    "tuple('ABC')"
   ]
  },
  {
   "cell_type": "code",
   "execution_count": 33,
   "id": "e6cc5d8b",
   "metadata": {},
   "outputs": [
    {
     "data": {
      "text/plain": [
       "(1, 2, 3)"
      ]
     },
     "execution_count": 33,
     "metadata": {},
     "output_type": "execute_result"
    }
   ],
   "source": [
    "tuple([1,2,3])"
   ]
  },
  {
   "cell_type": "code",
   "execution_count": 34,
   "id": "cacec530",
   "metadata": {},
   "outputs": [
    {
     "data": {
      "text/plain": [
       "(1, 2, 3)"
      ]
     },
     "execution_count": 34,
     "metadata": {},
     "output_type": "execute_result"
    }
   ],
   "source": [
    "tuple({1,2,3})"
   ]
  },
  {
   "cell_type": "code",
   "execution_count": 35,
   "id": "cb6add01",
   "metadata": {},
   "outputs": [
    {
     "data": {
      "text/plain": [
       "(0, 1, 2, 3, 4, 5, 6)"
      ]
     },
     "execution_count": 35,
     "metadata": {},
     "output_type": "execute_result"
    }
   ],
   "source": [
    "tuple(range(7))"
   ]
  },
  {
   "cell_type": "code",
   "execution_count": 36,
   "id": "67c5467a",
   "metadata": {},
   "outputs": [
    {
     "data": {
      "text/plain": [
       "(3, 4, 5, 6, 7)"
      ]
     },
     "execution_count": 36,
     "metadata": {},
     "output_type": "execute_result"
    }
   ],
   "source": [
    "tuple(range(3,8))"
   ]
  },
  {
   "cell_type": "code",
   "execution_count": 37,
   "id": "3b4bf328",
   "metadata": {},
   "outputs": [
    {
     "data": {
      "text/plain": [
       "(3, 5, 7, 9, 11)"
      ]
     },
     "execution_count": 37,
     "metadata": {},
     "output_type": "execute_result"
    }
   ],
   "source": [
    "tuple(range(3,13,2))"
   ]
  },
  {
   "cell_type": "code",
   "execution_count": 38,
   "id": "9bb9d322",
   "metadata": {},
   "outputs": [],
   "source": [
    "x = [1,2,3]\n",
    "a,b,c = x    # x를 언팩하여 변수 a,b,c에 대입  *언팩: 리스트나 튜플의 원솟값들을 풀어 여러 변수에 대입하는 것."
   ]
  },
  {
   "cell_type": "code",
   "execution_count": 40,
   "id": "e877e550",
   "metadata": {},
   "outputs": [
    {
     "data": {
      "text/plain": [
       "(1, 2, 3)"
      ]
     },
     "execution_count": 40,
     "metadata": {},
     "output_type": "execute_result"
    }
   ],
   "source": [
    "a,b,c"
   ]
  },
  {
   "cell_type": "markdown",
   "id": "8332e044",
   "metadata": {},
   "source": [
    "#### 인덱스식 사용하기"
   ]
  },
  {
   "cell_type": "code",
   "execution_count": 42,
   "id": "9ae3f33c",
   "metadata": {},
   "outputs": [
    {
     "name": "stdout",
     "output_type": "stream",
     "text": [
      "33\n",
      "55\n",
      "[11, 22, 33, 3.14, 55, 66, 77]\n"
     ]
    },
    {
     "ename": "IndexError",
     "evalue": "list index out of range",
     "output_type": "error",
     "traceback": [
      "\u001b[1;31m---------------------------------------------------------------------------\u001b[0m",
      "\u001b[1;31mIndexError\u001b[0m                                Traceback (most recent call last)",
      "\u001b[1;32m<ipython-input-42-da85c58ec0d5>\u001b[0m in \u001b[0;36m<module>\u001b[1;34m\u001b[0m\n\u001b[0;32m      4\u001b[0m \u001b[0mx\u001b[0m\u001b[1;33m[\u001b[0m\u001b[1;33m-\u001b[0m\u001b[1;36m4\u001b[0m\u001b[1;33m]\u001b[0m \u001b[1;33m=\u001b[0m \u001b[1;36m3.14\u001b[0m  \u001b[1;31m# 리스트 x의 뒤에서 4번째 원소에 새로운 값을 대입\u001b[0m\u001b[1;33m\u001b[0m\u001b[1;33m\u001b[0m\u001b[0m\n\u001b[0;32m      5\u001b[0m \u001b[0mprint\u001b[0m\u001b[1;33m(\u001b[0m\u001b[0mx\u001b[0m\u001b[1;33m)\u001b[0m\u001b[1;33m\u001b[0m\u001b[1;33m\u001b[0m\u001b[0m\n\u001b[1;32m----> 6\u001b[1;33m \u001b[0mprint\u001b[0m\u001b[1;33m(\u001b[0m\u001b[0mx\u001b[0m\u001b[1;33m[\u001b[0m\u001b[1;36m7\u001b[0m\u001b[1;33m]\u001b[0m\u001b[1;33m)\u001b[0m  \u001b[1;31m# 존재하지 않는 인덱스이므로 오류를 출력\u001b[0m\u001b[1;33m\u001b[0m\u001b[1;33m\u001b[0m\u001b[0m\n\u001b[0m\u001b[0;32m      7\u001b[0m \u001b[0mx\u001b[0m\u001b[1;33m[\u001b[0m\u001b[1;36m7\u001b[0m\u001b[1;33m]\u001b[0m \u001b[1;33m=\u001b[0m \u001b[1;36m3.14\u001b[0m  \u001b[1;31m# x[7]에는 값을 대입할 수 없으므로 오류를 출력\u001b[0m\u001b[1;33m\u001b[0m\u001b[1;33m\u001b[0m\u001b[0m\n",
      "\u001b[1;31mIndexError\u001b[0m: list index out of range"
     ]
    }
   ],
   "source": [
    "x = [11,22,33,44,55,66,77]\n",
    "print(x[2])  # 리스트 x의 앞에서 3번째 원소를 출력\n",
    "print(x[-3]) # 리스트 x의 뒤에서 3번째 원소를 출력\n",
    "x[-4] = 3.14  # 리스트 x의 뒤에서 4번째 원소에 새로운 값을 대입\n",
    "print(x)\n",
    "print(x[7])  # 존재하지 않는 인덱스이므로 오류를 출력\n",
    "x[7] = 3.14  # x[7]에는 값을 대입할 수 없으므로 오류를 출력\n",
    "\n",
    "# x가 리스트가 아닌 튜플이면 대입할 때 오류가 발생한다. 튜플은 원솟값을 변경할 수 없는 속성이 있기 때문!\n",
    "# 존재하지 않는 원소에 접근하거나 대입해도 원소가 새롭게 추가되지는 않는다."
   ]
  },
  {
   "cell_type": "markdown",
   "id": "bec3b098",
   "metadata": {},
   "source": [
    "### 슬라이스: 리스트 또는 튜플의 원소 일부를 연속해서 또는 일정한 간격으로 꺼내 새로운 리스트 또는 튜플을 만드는 것"
   ]
  },
  {
   "cell_type": "markdown",
   "id": "2397a2cc",
   "metadata": {},
   "source": [
    "### s[i:j] : s[i]부터 s[j-1]까지 나열합니다.\n",
    "### s[i:j:k] : s[i]부터 s[j-1]까지 k씩 건너뛰며 나열합니다."
   ]
  },
  {
   "cell_type": "code",
   "execution_count": 48,
   "id": "002cd15f",
   "metadata": {},
   "outputs": [
    {
     "name": "stdout",
     "output_type": "stream",
     "text": [
      "[11, 22, 33, 44, 55, 66]\n",
      "[11, 22, 33, 44, 55, 66, 77]\n",
      "[11, 33, 55, 77]\n",
      "[44, 55]\n",
      "[]\n"
     ]
    }
   ],
   "source": [
    "s = [11, 22, 33, 44, 55, 66, 77]\n",
    "print(s[0:6])      # 리스트 s의 0번째 원소부터 5번째 원소를 출력\n",
    "print(s[0:7])      # 리스트 s의 0번째 원소부터 6번째 원소를 출력\n",
    "print(s[0:7:2])    # 리스트 s의 0번째 원소부터 6번째 원소 중 2씩 건너뛰며 원소를 출력\n",
    "print(s[-4:-2])    # 리스트 s의 뒤에서 4번째 원소부터 뒤에서 2번째 원소를 출력\n",
    "print(s[3:1])      # 리스트 s의 j값(1)이 i값(3)보다 작지만 오류가 나지 않음. 그냥 빈 리스트를 출력함."
   ]
  },
  {
   "cell_type": "markdown",
   "id": "a246d4b2",
   "metadata": {},
   "source": [
    "#### len() 함수로 배열의 원소 수 구하기"
   ]
  },
  {
   "cell_type": "code",
   "execution_count": 54,
   "id": "92ce9888",
   "metadata": {},
   "outputs": [
    {
     "data": {
      "text/plain": [
       "6"
      ]
     },
     "execution_count": 54,
     "metadata": {},
     "output_type": "execute_result"
    }
   ],
   "source": [
    "x = [15, 64, 7, 3.14 ,[32,55], 'ABC']\n",
    "len(x)\n",
    "# if x:\n",
    "#     # x가 비어 있지 않으면(True) 실행\n",
    "# else:\n",
    "#     # x가 비어 있으면(False) 실행"
   ]
  },
  {
   "cell_type": "markdown",
   "id": "9c70eee5",
   "metadata": {},
   "source": [
    "### 내포 표기 생성 : 리스트 안에서 for, if 문을 사용하여 새로운 리스트를 생성하는 기법을 내포 표기 생성이라고 한다"
   ]
  },
  {
   "cell_type": "code",
   "execution_count": 56,
   "id": "591d1416",
   "metadata": {},
   "outputs": [
    {
     "name": "stdout",
     "output_type": "stream",
     "text": [
      "[2, 6, 10]\n"
     ]
    }
   ],
   "source": [
    "numbers = [1, 2, 3, 4, 5]\n",
    "twise = [num * 2 for num in numbers if num % 2 == 1]\n",
    "print(twise)"
   ]
  },
  {
   "cell_type": "code",
   "execution_count": null,
   "id": "a19dfa83",
   "metadata": {},
   "outputs": [],
   "source": []
  }
 ],
 "metadata": {
  "kernelspec": {
   "display_name": "Python 3",
   "language": "python",
   "name": "python3"
  },
  "language_info": {
   "codemirror_mode": {
    "name": "ipython",
    "version": 3
   },
   "file_extension": ".py",
   "mimetype": "text/x-python",
   "name": "python",
   "nbconvert_exporter": "python",
   "pygments_lexer": "ipython3",
   "version": "3.8.9"
  }
 },
 "nbformat": 4,
 "nbformat_minor": 5
}
